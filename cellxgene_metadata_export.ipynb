{
 "cells": [
  {
   "cell_type": "code",
   "execution_count": 1,
   "id": "699120cc-65e3-42ee-83e7-a43e1fb87afc",
   "metadata": {},
   "outputs": [],
   "source": [
    "import pandas as pd\n",
    "import requests\n",
    "import scanpy as sc"
   ]
  },
  {
   "cell_type": "code",
   "execution_count": 2,
   "id": "e589d3a3-3609-492c-8eaa-fd559633c7a8",
   "metadata": {},
   "outputs": [],
   "source": [
    "#specify the Collection to extract metadata from\n",
    "collection_id = 'bcb61471-2a44-4d00-a0af-ff085512674c'"
   ]
  },
  {
   "cell_type": "code",
   "execution_count": 3,
   "id": "7eb78af1-7b06-4479-94fb-a35b4af80ec1",
   "metadata": {},
   "outputs": [],
   "source": [
    "#schema fields that will not change Dataset-to-Dataset\n",
    "sample_schema = [\n",
    "    'organism','organism_ontology_term_id',\n",
    "    'donor_id','sex','sex_ontology_term_id',\n",
    "    'development_stage','development_stage_ontology_term_id',\n",
    "    'self_reported_ethnicity','self_reported_ethnicity_ontology_term_id',\n",
    "    'disease','disease_ontology_term_id',\n",
    "    'tissue','tissue_ontology_term_id','tissue_type',\n",
    "    'assay','assay_ontology_term_id','suspension_type'\n",
    "]\n",
    "cell_schema = [\n",
    "    'cell_type','cell_type_ontology_term_id'\n",
    "]\n",
    "collection_schema = [\n",
    "    'name','collection_url','visibility','doi',\n",
    "    'consortia','contact_name','contact_email','protocols'\n",
    "]"
   ]
  },
  {
   "cell_type": "code",
   "execution_count": 4,
   "id": "b9594e21-96c7-422f-b4b3-26d6dbc0372e",
   "metadata": {},
   "outputs": [],
   "source": [
    "#optionally, define additional fields that are specific to this Dataset\n",
    "sample_nonschema = [\n",
    "    'BMI','condition.l1','condition.l2','condition.long',\n",
    "    'diabetes_history','eGFR','experiment','hypertension',\n",
    "    'id','library','region.l1','region.l2','specimen',\n",
    "    'percent.cortex','percent.medulla'\n",
    "]\n",
    "cell_nonschema = [\n",
    "    'class','state','state.l2','structure','subclass.full',\n",
    "    'subclass.l1','subclass.l2','subclass.l3'\n",
    "]\n",
    "sample_schema.extend(sample_nonschema)\n",
    "cell_schema.extend(cell_nonschema)"
   ]
  },
  {
   "cell_type": "code",
   "execution_count": 5,
   "id": "da41c9d5-8171-429c-9b2b-6f106826a1ac",
   "metadata": {},
   "outputs": [],
   "source": [
    "#query the CELLxGENE API for Collection metadata\n",
    "cxg_api = 'https://api.cellxgene.cziscience.com/curation/v1'\n",
    "headers = {'Content-Type': 'application/json'}\n",
    "url = f'{cxg_api}/collections/{collection_id}'\n",
    "collection = requests.get(url, headers=headers).json()\n",
    "\n",
    "collection['protocols'] = [l['link_url'] for l in collection['links'] if l['link_type'] == 'PROTOCOL']\n",
    "\n",
    "coll_report = {}\n",
    "for f in collection_schema:\n",
    "    v = collection.get(f)\n",
    "    if isinstance(v, list):\n",
    "        v = ','.join(v)\n",
    "    coll_report[f] = v"
   ]
  },
  {
   "cell_type": "code",
   "execution_count": 6,
   "id": "4e764a14-85e1-4cc8-90e0-879bc9bd2a0b",
   "metadata": {},
   "outputs": [
    {
     "data": {
      "text/html": [
       "<div>\n",
       "<style scoped>\n",
       "    .dataframe tbody tr th:only-of-type {\n",
       "        vertical-align: middle;\n",
       "    }\n",
       "\n",
       "    .dataframe tbody tr th {\n",
       "        vertical-align: top;\n",
       "    }\n",
       "\n",
       "    .dataframe thead th {\n",
       "        text-align: right;\n",
       "    }\n",
       "</style>\n",
       "<table border=\"1\" class=\"dataframe\">\n",
       "  <thead>\n",
       "    <tr style=\"text-align: right;\">\n",
       "      <th></th>\n",
       "      <th>dataset_id</th>\n",
       "      <th>cell_count</th>\n",
       "      <th>title</th>\n",
       "    </tr>\n",
       "  </thead>\n",
       "  <tbody>\n",
       "    <tr>\n",
       "      <th>0</th>\n",
       "      <td>32b9bdce-2481-4c85-ba1b-6ad5fcea844c</td>\n",
       "      <td>107344</td>\n",
       "      <td>Single-cell RNA-seq of the Adult Human Kidney ...</td>\n",
       "    </tr>\n",
       "    <tr>\n",
       "      <th>1</th>\n",
       "      <td>0b75c598-0893-4216-afe8-5414cab7739d</td>\n",
       "      <td>304652</td>\n",
       "      <td>Integrated Single-nucleus and Single-cell RNA-...</td>\n",
       "    </tr>\n",
       "    <tr>\n",
       "      <th>2</th>\n",
       "      <td>07854d9c-5375-4a9b-ac34-fa919d3c3686</td>\n",
       "      <td>172847</td>\n",
       "      <td>Single-nucleus RNA-seq of the Adult Human Kidn...</td>\n",
       "    </tr>\n",
       "  </tbody>\n",
       "</table>\n",
       "</div>"
      ],
      "text/plain": [
       "                             dataset_id  cell_count  \\\n",
       "0  32b9bdce-2481-4c85-ba1b-6ad5fcea844c      107344   \n",
       "1  0b75c598-0893-4216-afe8-5414cab7739d      304652   \n",
       "2  07854d9c-5375-4a9b-ac34-fa919d3c3686      172847   \n",
       "\n",
       "                                               title  \n",
       "0  Single-cell RNA-seq of the Adult Human Kidney ...  \n",
       "1  Integrated Single-nucleus and Single-cell RNA-...  \n",
       "2  Single-nucleus RNA-seq of the Adult Human Kidn...  "
      ]
     },
     "execution_count": 6,
     "metadata": {},
     "output_type": "execute_result"
    }
   ],
   "source": [
    "pd.DataFrame(collection['datasets'])[['dataset_id','cell_count','title']]"
   ]
  },
  {
   "cell_type": "code",
   "execution_count": 7,
   "id": "973afc38-5d01-4c4e-9391-15d4778483c1",
   "metadata": {},
   "outputs": [],
   "source": [
    "#specify the Dataset to extract metadata from\n",
    "dataset_id = '0b75c598-0893-4216-afe8-5414cab7739d'"
   ]
  },
  {
   "cell_type": "code",
   "execution_count": 8,
   "id": "43fa4755",
   "metadata": {},
   "outputs": [],
   "source": [
    "pd.DataFrame(coll_report, index=[0]).transpose().to_csv(f'metadata/{collection_id}_{dataset_id}_study_metadata.csv', header=None)"
   ]
  },
  {
   "cell_type": "code",
   "execution_count": 9,
   "id": "6300c88e-db9d-4714-8b4d-0073af3a1ecb",
   "metadata": {},
   "outputs": [
    {
     "name": "stdout",
     "output_type": "stream",
     "text": [
      "\u001b[1m\u001b[38;5;10m100.0% downloaded h5ads/bcb61471-2a44-4d00-a0af-ff085512674c_0b75c598-0893-4216-afe8-5414cab7739d.h5ad\u001b[0m\r"
     ]
    }
   ],
   "source": [
    "#download the H5AD file\n",
    "mx_file = f'h5ads/{collection_id}_{dataset_id}.h5ad'\n",
    "\n",
    "for d in collection['datasets']:\n",
    "    if d['dataset_id'] == dataset_id:\n",
    "        h5ad_url = [a['url'] for a in d['assets'] if a['filetype'] == 'H5AD'][0]\n",
    "\n",
    "with requests.get(h5ad_url, stream=True) as res:\n",
    "    res.raise_for_status()\n",
    "    filesize = int(res.headers['Content-Length'])\n",
    "    with open(mx_file, 'wb') as df:\n",
    "        total_bytes_received = 0\n",
    "        for chunk in res.iter_content(chunk_size=1024 * 1024):\n",
    "            df.write(chunk)\n",
    "            total_bytes_received += len(chunk)\n",
    "            percent_of_total_upload = float('{:.1f}'.format(total_bytes_received / filesize * 100))\n",
    "            print(f'\\033[1m\\033[38;5;10m{percent_of_total_upload}% downloaded {mx_file}\\033[0m\\r', end='')"
   ]
  },
  {
   "cell_type": "code",
   "execution_count": 10,
   "id": "b6048932-d211-423f-80e6-09be58c31c2c",
   "metadata": {},
   "outputs": [],
   "source": [
    "#extract metadata\n",
    "adata = sc.read_h5ad(mx_file, backed='r')\n",
    "\n",
    "pd.DataFrame(adata.obs[sample_schema].value_counts()).rename(columns={0: 'obs count'}).to_csv(f'metadata/{collection_id}_{dataset_id}_sample_metadata.csv')\n",
    "pd.DataFrame(adata.obs[cell_schema].value_counts()).rename(columns={0: 'obs count'}).to_csv(f'metadata/{collection_id}_{dataset_id}_cell_metadata.csv')"
   ]
  },
  {
   "cell_type": "code",
   "execution_count": 11,
   "id": "b9a6202b-156c-4205-ad0c-497c861c1683",
   "metadata": {},
   "outputs": [],
   "source": [
    "obs_table = adata.obs[sample_schema].drop_duplicates().set_index('library')\n",
    "obs_table['obs count'] = adata.obs['library'].value_counts()\n",
    "obs_table.to_csv(f'metadata/{collection_id}_{dataset_id}_metadata.csv')"
   ]
  }
 ],
 "metadata": {
  "kernelspec": {
   "display_name": "Python 3 (ipykernel)",
   "language": "python",
   "name": "python3"
  },
  "language_info": {
   "codemirror_mode": {
    "name": "ipython",
    "version": 3
   },
   "file_extension": ".py",
   "mimetype": "text/x-python",
   "name": "python",
   "nbconvert_exporter": "python",
   "pygments_lexer": "ipython3",
   "version": "3.10.9"
  }
 },
 "nbformat": 4,
 "nbformat_minor": 5
}
