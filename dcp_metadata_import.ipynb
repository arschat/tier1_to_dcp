{
 "cells": [
  {
   "cell_type": "code",
   "execution_count": 2,
   "metadata": {},
   "outputs": [],
   "source": [
    "import pandas as pd\n",
    "from numpy import nan\n",
    "import os\n",
    "import requests\n",
    "\n",
    "from tier1_to_dcp_dict import tier1_to_dcp"
   ]
  },
  {
   "cell_type": "code",
   "execution_count": 3,
   "metadata": {},
   "outputs": [],
   "source": [
    "collection_id = 'bcb61471-2a44-4d00-a0af-ff085512674c'\n",
    "dataset_id = '0b75c598-0893-4216-afe8-5414cab7739d'"
   ]
  },
  {
   "cell_type": "code",
   "execution_count": 4,
   "metadata": {},
   "outputs": [],
   "source": [
    "study_metadata = pd.read_csv(f\"metadata/{collection_id}_{dataset_id}_study_metadata.csv\", header=None).T\n",
    "study_metadata.columns = study_metadata.iloc[0]\n",
    "study_metadata.drop(0, axis=0, inplace=True)\n",
    "sample_metadata = pd.read_csv(f\"metadata/{collection_id}_{dataset_id}_metadata.csv\")\n",
    "# sample_metadata = pd.read_csv(f'metadata/{collection_id}_{dataset_id}_cell_tier.csv', index_col='index')"
   ]
  },
  {
   "cell_type": "code",
   "execution_count": 7,
   "metadata": {},
   "outputs": [],
   "source": [
    "hca_template_url = 'https://github.com/ebi-ait/geo_to_hca/raw/master/template/hca_template.xlsx'\n",
    "hca_template_file = requests.get(hca_template_url)\n",
    "dcp_spreadsheet = pd.read_excel(hca_template_file.content, sheet_name=None, skiprows= [0,1,2,4])\n",
    "\n",
    "# save the 4-row header of the original spreadsheet with programmatic name as column names\n",
    "dcp_headers = pd.read_excel(hca_template_file.content, sheet_name=None, header=None)\n",
    "for tab in dcp_headers:\n",
    "    dcp_headers[tab].rename(columns=dcp_headers[tab].iloc[3], inplace= True)"
   ]
  },
  {
   "cell_type": "code",
   "execution_count": 8,
   "metadata": {},
   "outputs": [],
   "source": [
    "def reformat_column_values(column_name, value):\n",
    "    if value == \"Yes\":\n",
    "        return column_name\n",
    "    else:\n",
    "        return nan\n",
    "\n",
    "for column in sample_metadata.columns:\n",
    "    if \"diabetes\" in column.lower() or \"hypertension\" in column.lower():\n",
    "        sample_metadata[column] = sample_metadata.apply(lambda row: reformat_column_values(column, row[column]), axis=1)\n",
    "\n",
    "sample_dcp_fields = sample_metadata.rename(columns=tier1_to_dcp)"
   ]
  },
  {
   "cell_type": "code",
   "execution_count": 9,
   "metadata": {},
   "outputs": [],
   "source": [
    "if 'doi' in sample_metadata.columns and len(set(sample_metadata['doi'])) == 1:\n",
    "    dcp_spreadsheet['Project - Publications'] = pd.DataFrame({key: \\\n",
    "        (study_metadata['doi'].tolist() if key.endswith(\"doi\") \\\n",
    "            else [nan]) \\\n",
    "            for key in dcp_spreadsheet['Project - Publications'].keys()})\n",
    "\n",
    "if 'institute' in sample_metadata.columns:\n",
    "    # TODO add institute per sample\n",
    "    if len(set(sample_metadata['institute'])) == 1:\n",
    "        dcp_spreadsheet['Cell suspension']['process.process_core.location'] = sample_metadata['institute'][0]\n",
    "if 'title' in sample_metadata.columns:\n",
    "    if len(set(sample_metadata['title'])) != 1:\n",
    "        print(\"We have multiple titles \" + set(sample_metadata['title']))\n",
    "    dcp_spreadsheet['Project'] = pd.DataFrame({key: \\\n",
    "    (sample_metadata['title'][0] if key.endswith(\"project_title\") \\\n",
    "        else [nan]) \\\n",
    "        for key in dcp_spreadsheet['Project'].keys()})\n",
    "if 'study_pi' in  sample_metadata.columns and \\\n",
    "    'institute' in sample_metadata.columns:\n",
    "    # TODO add fix for multiple institutes per sample\n",
    "    if len(set(sample_metadata['study_pi'])) == 1 and \\\n",
    "        len(set(sample_metadata['institute'])) == 1:\n",
    "        study_pi_dict = {\n",
    "            'project.contributors.name': sample_metadata['study_pi'][0], \n",
    "            'project.contributors.institution': sample_metadata['institute'][0],\n",
    "            'project.contributors.corresponding_contributor': 'yes'\n",
    "            }\n",
    "        study_pi_dict.update({\n",
    "            key: nan for key in dcp_spreadsheet['Project - Contributors'].keys() if key not in study_pi_dict.keys()\n",
    "        })\n",
    "        dcp_spreadsheet['Project - Contributors'] = pd.DataFrame(study_pi_dict, index=[0])\n"
   ]
  },
  {
   "cell_type": "code",
   "execution_count": 10,
   "metadata": {},
   "outputs": [],
   "source": [
    "for tab in dcp_spreadsheet:\n",
    "    keys_union = [key for key in dcp_spreadsheet[tab].keys() if key in sample_dcp_fields.keys()]\n",
    "    # if tab contains only the input biomaterial name, then skip the tab\n",
    "    if (len(keys_union) == 1) and (tab.lower().replace(\" \", \"_\") != keys_union[0].split(\".\")[0]):\n",
    "        continue\n",
    "    # collapse arrays in duplicated columns\n",
    "    if any(sample_dcp_fields[keys_union].columns.duplicated()):\n",
    "        for dub_cols in set(sample_dcp_fields[keys_union].columns[sample_dcp_fields[keys_union].columns.duplicated()]):\n",
    "            df = sample_dcp_fields[dub_cols]\n",
    "            sample_dcp_fields.drop(columns=dub_cols, inplace=True)\n",
    "            sample_dcp_fields[dub_cols] = df[dub_cols].apply(lambda x: '||'.join(x.dropna().astype(str)),axis=1)\n",
    "\n",
    "    # merge the two dataframes\n",
    "    dcp_spreadsheet[tab] = pd.concat([dcp_spreadsheet[tab],sample_dcp_fields[keys_union]])\n",
    "    dcp_spreadsheet[tab] = dcp_spreadsheet[tab].dropna(how='all').drop_duplicates()\n",
    "\n",
    "    # generate a unique protocol_id\n",
    "    if tab.endswith('protocol') and keys_union:\n",
    "        dcp_spreadsheet[tab] = dcp_spreadsheet[tab].drop_duplicates()\n",
    "        # there should be only 1 protocol_id in each protocol tab. we need a series to replace spaces\n",
    "        protocol_id_col = [col for col in dcp_spreadsheet[tab].columns if col.endswith('protocol_core.protocol_id')][0]\n",
    "        dcp_spreadsheet[tab][protocol_id_col] = [tab.lower().replace(\" \",\"_\") + \"_\" + str(n + 1) for n in range(len(dcp_spreadsheet[tab]))]\n",
    "\n",
    "    if tab == 'Project':\n",
    "        dcp_spreadsheet[tab] = dcp_spreadsheet[tab].drop_duplicates()\n"
   ]
  },
  {
   "cell_type": "code",
   "execution_count": 11,
   "metadata": {},
   "outputs": [
    {
     "name": "stdout",
     "output_type": "stream",
     "text": [
      "Project\n",
      "Project - Contributors\n",
      "Donor organism\n",
      "Specimen from organism\n",
      "Cell suspension\n",
      "Collection protocol\n",
      "Library preparation protocol\n",
      "Sequencing protocol\n",
      "Analysis file\n",
      "Analysis protocol\n"
     ]
    }
   ],
   "source": [
    "with pd.ExcelWriter(f\"metadata/{collection_id}_{dataset_id}_dcp.xlsx\") as writer:\n",
    "    for tab in dcp_spreadsheet:\n",
    "        if not dcp_spreadsheet[tab].empty:\n",
    "            print(tab)\n",
    "            pd.concat([dcp_headers[tab], dcp_spreadsheet[tab]]).to_excel(writer, sheet_name=tab, index=False, header=False)"
   ]
  }
 ],
 "metadata": {
  "kernelspec": {
   "display_name": "pandas",
   "language": "python",
   "name": "python3"
  },
  "language_info": {
   "codemirror_mode": {
    "name": "ipython",
    "version": 3
   },
   "file_extension": ".py",
   "mimetype": "text/x-python",
   "name": "python",
   "nbconvert_exporter": "python",
   "pygments_lexer": "ipython3",
   "version": "3.9.6"
  }
 },
 "nbformat": 4,
 "nbformat_minor": 2
}
